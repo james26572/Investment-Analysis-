{
 "cells": [
  {
   "cell_type": "code",
   "execution_count": 31,
   "metadata": {},
   "outputs": [],
   "source": [
    "import pandas as pd\n",
    "import math\n",
    "import os \n",
    "import numpy as np"
   ]
  },
  {
   "cell_type": "code",
   "execution_count": 32,
   "metadata": {},
   "outputs": [
    {
     "name": "stdout",
     "output_type": "stream",
     "text": [
      "{'AAPL': 0.023112508604323387, 'ABNB': 0.00421082120076829, 'ADBE': 0.014823772968949246, 'ELF': 0.05731601224981594, 'LRCX': 0.02468945617421844, 'NVDA': 0.06256613345221891, 'PYPL': -0.002704613515295192, 'RBLX': -0.0002812422655750435, 'SHOP': 0.03456330445767218, 'TSLA': 0.0632689560399196, 'TTD': 0.037353808126425504}\n",
      "{'AAPL': 0.09359306865985144, 'ABNB': 0.09843244218542171, 'ADBE': 0.08118276395359862, 'ELF': 0.1159451321924056, 'LRCX': 0.11478840803082548, 'NVDA': 0.11756772487889917, 'PYPL': 0.0895467741541874, 'RBLX': 0.16303278268879995, 'SHOP': 0.1321817610703955, 'TSLA': 0.17635834366567882, 'TTD': 0.14031373665275312}\n"
     ]
    }
   ],
   "source": [
    "ticker_mean_returns = {}\n",
    "ticker_sd_returns = {}\n",
    "ticker_returns = {}\n",
    "for file in os.listdir():\n",
    "    if not file.endswith('.csv'):\n",
    "        continue\n",
    "    ticker_data = pd.read_csv(file)\n",
    "    \n",
    "    \n",
    "    ticker_data['Monthly Return'] = ticker_data['Close'].pct_change() \n",
    "    #ticker.dropna(inplace=True)\n",
    "    ticker_returns[f'{file[:-4]}'] = ticker_data[['Date','Monthly Return']].copy(deep=True)\n",
    "\n",
    "\n",
    "    ticker_monthly_return_mean = ticker_data['Monthly Return'].mean()\n",
    "    ticker_monthly_return_sd = (ticker_data['Monthly Return'] - ticker_monthly_return_mean).abs().mean()\n",
    "    \n",
    "    ticker_mean_returns[f'{file[:-4]}'] = ticker_monthly_return_mean\n",
    "    ticker_sd_returns[f'{file[:-4]}'] = ticker_monthly_return_sd \n",
    "print(ticker_mean_returns)\n",
    "print(ticker_sd_returns)\n",
    "\n"
   ]
  },
  {
   "cell_type": "code",
   "execution_count": 33,
   "metadata": {},
   "outputs": [
    {
     "data": {
      "text/plain": [
       "{'AAPL and ABNB': 0.18075547130877545,\n",
       " 'AAPL and ADBE': 0.20909289357175437,\n",
       " 'AAPL and ELF': 0.07089985592650999,\n",
       " 'AAPL and LRCX': 0.4115062245501308,\n",
       " 'AAPL and NVDA': 0.179598175345822,\n",
       " 'AAPL and PYPL': 0.14801419949109396,\n",
       " 'AAPL and RBLX': -0.17249892417453155,\n",
       " 'AAPL and SHOP': 0.16934502156088665,\n",
       " 'AAPL and TSLA': 0.23861281300325976,\n",
       " 'AAPL and TTD': 0.11929614793277271,\n",
       " 'ABNB and AAPL': 0.18075547130877548,\n",
       " 'ABNB and ADBE': -0.11450472584817475,\n",
       " 'ABNB and ELF': -0.018299666301601313,\n",
       " 'ABNB and LRCX': 0.2433147642071071,\n",
       " 'ABNB and NVDA': -0.15747845287424758,\n",
       " 'ABNB and PYPL': -0.08557031507452306,\n",
       " 'ABNB and RBLX': 0.12643963589478466,\n",
       " 'ABNB and SHOP': -0.0751631278666437,\n",
       " 'ABNB and TSLA': -0.10566091541244008,\n",
       " 'ABNB and TTD': -0.03724897324634486,\n",
       " 'ADBE and AAPL': 0.20909289357175437,\n",
       " 'ADBE and ABNB': -0.11450472584817477,\n",
       " 'ADBE and ELF': 0.3164225693653585,\n",
       " 'ADBE and LRCX': 0.18238191329755507,\n",
       " 'ADBE and NVDA': 0.6311838207628966,\n",
       " 'ADBE and PYPL': 0.4886199200561787,\n",
       " 'ADBE and RBLX': -0.2214433007445266,\n",
       " 'ADBE and SHOP': 0.688767617811271,\n",
       " 'ADBE and TSLA': 0.46750789983259916,\n",
       " 'ADBE and TTD': 0.3326313844511103,\n",
       " 'ELF and AAPL': 0.07089985592650998,\n",
       " 'ELF and ABNB': -0.018299666301601313,\n",
       " 'ELF and ADBE': 0.3164225693653585,\n",
       " 'ELF and LRCX': -0.034006054529248986,\n",
       " 'ELF and NVDA': 0.41281883326524593,\n",
       " 'ELF and PYPL': 0.35029593952567073,\n",
       " 'ELF and RBLX': -0.2743439688930002,\n",
       " 'ELF and SHOP': 0.38938832452357425,\n",
       " 'ELF and TSLA': 0.25675126233270584,\n",
       " 'ELF and TTD': 0.32041658465387524,\n",
       " 'LRCX and AAPL': 0.4115062245501308,\n",
       " 'LRCX and ABNB': 0.2433147642071071,\n",
       " 'LRCX and ADBE': 0.1823819132975551,\n",
       " 'LRCX and ELF': -0.034006054529248986,\n",
       " 'LRCX and NVDA': 0.2865300000569845,\n",
       " 'LRCX and PYPL': 0.18302168511555633,\n",
       " 'LRCX and RBLX': -0.023488383720359402,\n",
       " 'LRCX and SHOP': 0.20545310934737993,\n",
       " 'LRCX and TSLA': 0.17005949063484896,\n",
       " 'LRCX and TTD': 0.017578270082549124,\n",
       " 'NVDA and AAPL': 0.17959817534582204,\n",
       " 'NVDA and ABNB': -0.15747845287424758,\n",
       " 'NVDA and ADBE': 0.6311838207628966,\n",
       " 'NVDA and ELF': 0.41281883326524593,\n",
       " 'NVDA and LRCX': 0.2865300000569845,\n",
       " 'NVDA and PYPL': 0.31955470426417215,\n",
       " 'NVDA and RBLX': -0.13487990228751093,\n",
       " 'NVDA and SHOP': 0.5576812849589153,\n",
       " 'NVDA and TSLA': 0.4850828795523037,\n",
       " 'NVDA and TTD': 0.37774493560962324,\n",
       " 'PYPL and AAPL': 0.14801419949109396,\n",
       " 'PYPL and ABNB': -0.08557031507452305,\n",
       " 'PYPL and ADBE': 0.48861992005617866,\n",
       " 'PYPL and ELF': 0.35029593952567073,\n",
       " 'PYPL and LRCX': 0.18302168511555633,\n",
       " 'PYPL and NVDA': 0.31955470426417215,\n",
       " 'PYPL and RBLX': -0.2506941745581701,\n",
       " 'PYPL and SHOP': 0.6526452872232261,\n",
       " 'PYPL and TSLA': 0.44771288120683783,\n",
       " 'PYPL and TTD': 0.38096713781367675,\n",
       " 'RBLX and AAPL': -0.17249892417453155,\n",
       " 'RBLX and ABNB': 0.12643963589478466,\n",
       " 'RBLX and ADBE': -0.2214433007445266,\n",
       " 'RBLX and ELF': -0.2743439688930003,\n",
       " 'RBLX and LRCX': -0.023488383720359402,\n",
       " 'RBLX and NVDA': -0.13487990228751093,\n",
       " 'RBLX and PYPL': -0.2506941745581701,\n",
       " 'RBLX and SHOP': -0.20914295366066735,\n",
       " 'RBLX and TSLA': -0.33002156664058924,\n",
       " 'RBLX and TTD': -0.0814272158310692,\n",
       " 'SHOP and AAPL': 0.16934502156088665,\n",
       " 'SHOP and ABNB': -0.0751631278666437,\n",
       " 'SHOP and ADBE': 0.688767617811271,\n",
       " 'SHOP and ELF': 0.3893883245235742,\n",
       " 'SHOP and LRCX': 0.20545310934737993,\n",
       " 'SHOP and NVDA': 0.5576812849589153,\n",
       " 'SHOP and PYPL': 0.6526452872232261,\n",
       " 'SHOP and RBLX': -0.20914295366066735,\n",
       " 'SHOP and TSLA': 0.4675950363028786,\n",
       " 'SHOP and TTD': 0.41800926080190687,\n",
       " 'TSLA and AAPL': 0.23861281300325976,\n",
       " 'TSLA and ABNB': -0.10566091541244008,\n",
       " 'TSLA and ADBE': 0.46750789983259916,\n",
       " 'TSLA and ELF': 0.25675126233270584,\n",
       " 'TSLA and LRCX': 0.17005949063484896,\n",
       " 'TSLA and NVDA': 0.4850828795523038,\n",
       " 'TSLA and PYPL': 0.44771288120683783,\n",
       " 'TSLA and RBLX': -0.3300215666405892,\n",
       " 'TSLA and SHOP': 0.4675950363028786,\n",
       " 'TSLA and TTD': 0.44281344722652427,\n",
       " 'TTD and AAPL': 0.11929614793277271,\n",
       " 'TTD and ABNB': -0.03724897324634486,\n",
       " 'TTD and ADBE': 0.3326313844511103,\n",
       " 'TTD and ELF': 0.32041658465387524,\n",
       " 'TTD and LRCX': 0.017578270082549124,\n",
       " 'TTD and NVDA': 0.37774493560962324,\n",
       " 'TTD and PYPL': 0.38096713781367675,\n",
       " 'TTD and RBLX': -0.08142721583106918,\n",
       " 'TTD and SHOP': 0.41800926080190687,\n",
       " 'TTD and TSLA': 0.44281344722652427}"
      ]
     },
     "execution_count": 33,
     "metadata": {},
     "output_type": "execute_result"
    }
   ],
   "source": [
    "correlation_coefficients = {}\n",
    "for file_1 in os.listdir():\n",
    "    if not file_1.endswith('.csv'):\n",
    "        continue\n",
    "    for file_2 in os.listdir():\n",
    "        if not file_2.endswith('.csv'):\n",
    "            continue\n",
    "\n",
    "        if file_1 == file_2:\n",
    "            continue\n",
    "    \n",
    "        df_1 = ticker_returns[f'{file_1[:-4]}']\n",
    "        \n",
    "\n",
    "        df_2 = ticker_returns[f'{file_2[:-4]}']\n",
    "        \n",
    "        aligned_df = df_1.join(df_2, how='inner', lsuffix='_df1', rsuffix='_df2')\n",
    "\n",
    "        correlation_coefficient = aligned_df['Monthly Return_df1'].corr(aligned_df['Monthly Return_df2'])\n",
    "        \n",
    "        correlation_coefficients[f'{file_1[:-4]} and {file_2[:-4]}'] = correlation_coefficient\n",
    "\n",
    "\n",
    "\n",
    "correlation_coefficients\n",
    "\n",
    "\n",
    "\n",
    "    \n",
    "    "
   ]
  },
  {
   "cell_type": "code",
   "execution_count": 34,
   "metadata": {},
   "outputs": [],
   "source": [
    "random_numbers = np.random.random(11)\n",
    "weights = random_numbers / random_numbers.sum()\n"
   ]
  },
  {
   "cell_type": "code",
   "execution_count": 35,
   "metadata": {},
   "outputs": [],
   "source": [
    "tickers = ['AAPL', 'ABNB', 'ADBE', 'ELF', 'LRCX', 'NVDA', 'PYPL', 'RBLX', 'SHOP', 'TSLA', 'TTD']\n",
    "\n",
    "\n",
    "\n",
    "def get_portfolio_variance(weights):\n",
    "    portfolio_var = 0\n",
    "    for i in range(11):\n",
    "\n",
    "        current_sum = math.pow(weights[0],2) * math.pow(ticker_mean_returns[tickers[i]],2)\n",
    "\n",
    "\n",
    "        \n",
    "        \n",
    "        for j in range(11):\n",
    "            if i == j:\n",
    "                continue\n",
    "            current_sum += (weights[i]*weights[j]*ticker_mean_returns[tickers[i]]*ticker_mean_returns[tickers[j]]\n",
    "                            *correlation_coefficients[f'{tickers[i]} and {tickers[j]}'])\n",
    "            \n",
    "        \n",
    "        \n",
    "        portfolio_var += current_sum\n",
    "    return portfolio_var\n",
    "\n",
    "\n",
    "\n",
    "\n",
    "portfolio_var = get_portfolio_variance(weights)\n",
    "\n",
    "\n",
    "\n",
    "    "
   ]
  },
  {
   "cell_type": "code",
   "execution_count": 36,
   "metadata": {},
   "outputs": [
    {
     "data": {
      "text/plain": [
       "0.016753771600487546"
      ]
     },
     "execution_count": 36,
     "metadata": {},
     "output_type": "execute_result"
    }
   ],
   "source": [
    "expected_portfolio_sd = portfolio_var**(1/2)\n",
    "expected_portfolio_sd"
   ]
  },
  {
   "cell_type": "code",
   "execution_count": 37,
   "metadata": {},
   "outputs": [
    {
     "data": {
      "text/plain": [
       "{'AAPL': 0.023112508604323387,\n",
       " 'ABNB': 0.00421082120076829,\n",
       " 'ADBE': 0.014823772968949246,\n",
       " 'ELF': 0.05731601224981594,\n",
       " 'LRCX': 0.02468945617421844,\n",
       " 'NVDA': 0.06256613345221891,\n",
       " 'PYPL': -0.002704613515295192,\n",
       " 'RBLX': -0.0002812422655750435,\n",
       " 'SHOP': 0.03456330445767218,\n",
       " 'TSLA': 0.0632689560399196,\n",
       " 'TTD': 0.037353808126425504}"
      ]
     },
     "execution_count": 37,
     "metadata": {},
     "output_type": "execute_result"
    }
   ],
   "source": [
    "ticker_mean_returns"
   ]
  },
  {
   "cell_type": "code",
   "execution_count": 38,
   "metadata": {},
   "outputs": [
    {
     "data": {
      "text/plain": [
       "0.027031917759680342"
      ]
     },
     "execution_count": 38,
     "metadata": {},
     "output_type": "execute_result"
    }
   ],
   "source": [
    "\n",
    "def get_portfolio_return(weights):\n",
    "    expected_return = 0\n",
    "    for weight,ticker in zip(weights,tickers):\n",
    "        expected_return += weight*ticker_mean_returns[ticker]\n",
    "    return expected_return\n",
    "\n",
    "expected_portfolio_return = get_portfolio_return(weights)\n",
    "\n",
    "expected_portfolio_return"
   ]
  },
  {
   "cell_type": "code",
   "execution_count": 39,
   "metadata": {},
   "outputs": [],
   "source": [
    "assumed_risk_free_rate = 0.02/12"
   ]
  },
  {
   "cell_type": "code",
   "execution_count": 40,
   "metadata": {},
   "outputs": [
    {
     "data": {
      "text/plain": [
       "1.5140024406370403"
      ]
     },
     "execution_count": 40,
     "metadata": {},
     "output_type": "execute_result"
    }
   ],
   "source": [
    "sharpe_ratio = (expected_portfolio_return-assumed_risk_free_rate)/expected_portfolio_sd\n",
    "sharpe_ratio"
   ]
  },
  {
   "cell_type": "code",
   "execution_count": 41,
   "metadata": {},
   "outputs": [],
   "source": [
    "def get_sharpe_ratio(weights):\n",
    "    expected_portfolio_sd = get_portfolio_variance(weights) ** (1/2)\n",
    "    return (expected_portfolio_return-assumed_risk_free_rate)/expected_portfolio_sd"
   ]
  },
  {
   "cell_type": "code",
   "execution_count": 42,
   "metadata": {},
   "outputs": [],
   "source": [
    "best_sharp_ratio = 0\n",
    "best_weights = []\n",
    "sharpe_ratios = []\n",
    "for i in range(1000000):\n",
    "    random_numbers = np.random.random(11)\n",
    "    weights = random_numbers / random_numbers.sum()\n",
    "\n",
    "    if any(weight > 0.25 for weight in weights):\n",
    "        continue\n",
    "    \n",
    "    sharpe_ratio = get_sharpe_ratio(weights)\n",
    "\n",
    "    sharpe_ratios.append(sharpe_ratio)\n",
    "\n",
    "    if sharpe_ratio > best_sharp_ratio:\n",
    "        best_sharp_ratio = sharpe_ratio\n",
    "        best_weights = weights \n",
    "\n",
    "\n",
    "\n",
    "    "
   ]
  },
  {
   "cell_type": "code",
   "execution_count": 43,
   "metadata": {},
   "outputs": [
    {
     "data": {
      "text/plain": [
       "1.3672082214547059"
      ]
     },
     "execution_count": 43,
     "metadata": {},
     "output_type": "execute_result"
    }
   ],
   "source": [
    "np.mean(sharpe_ratios)"
   ]
  },
  {
   "cell_type": "code",
   "execution_count": 44,
   "metadata": {},
   "outputs": [
    {
     "data": {
      "text/plain": [
       "4.914436695069688"
      ]
     },
     "execution_count": 44,
     "metadata": {},
     "output_type": "execute_result"
    }
   ],
   "source": [
    "best_sharp_ratio"
   ]
  },
  {
   "cell_type": "code",
   "execution_count": 45,
   "metadata": {},
   "outputs": [],
   "source": [
    "\n",
    "    \n",
    "\n",
    "stock_weights_df = pd.DataFrame({'Ticker':[ticker for ticker in tickers],'Weights': [weight for weight in best_weights]})\n",
    "\n",
    "stock_weights_df.to_csv('stock_weights.csv',index = False)"
   ]
  },
  {
   "cell_type": "code",
   "execution_count": 46,
   "metadata": {},
   "outputs": [],
   "source": [
    "import seaborn as sns\n",
    "import matplotlib.pyplot as plt"
   ]
  },
  {
   "cell_type": "code",
   "execution_count": 47,
   "metadata": {},
   "outputs": [
    {
     "data": {
      "image/png": "[encoded data removed]",
      "text/plain": [
       "<Figure size 432x288 with 1 Axes>"
      ]
     },
     "metadata": {
      "needs_background": "light"
     },
     "output_type": "display_data"
    }
   ],
   "source": [
    "# Create the distribution plot\n",
    "sns.histplot(sharpe_ratios, kde=True, stat=\"density\", linewidth=0)\n",
    "\n",
    "# Adding labels and title for clarity\n",
    "plt.xlabel('Sharpe Ratio')\n",
    "plt.ylabel('Density')\n",
    "plt.title('Distribution of Sharpe Ratios Across Simulated Portfolios')\n",
    "\n",
    "# Display the plot\n",
    "plt.show()"
   ]
  }
 ],
 "metadata": {
  "kernelspec": {
   "display_name": "base",
   "language": "python",
   "name": "python3"
  },
  "language_info": {
   "codemirror_mode": {
    "name": "ipython",
    "version": 3
   },
   "file_extension": ".py",
   "mimetype": "text/x-python",
   "name": "python",
   "nbconvert_exporter": "python",
   "pygments_lexer": "ipython3",
   "version": "3.9.7"
  }
 },
 "nbformat": 4,
 "nbformat_minor": 2
}
