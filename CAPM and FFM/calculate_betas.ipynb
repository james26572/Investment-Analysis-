{
 "cells": [
  {
   "cell_type": "code",
   "execution_count": 1,
   "metadata": {},
   "outputs": [
    {
     "name": "stderr",
     "output_type": "stream",
     "text": [
      "c:\\Users\\buckl\\anaconda3\\lib\\site-packages\\statsmodels\\tsa\\base\\tsa_model.py:7: FutureWarning: pandas.Int64Index is deprecated and will be removed from pandas in a future version. Use pandas.Index with the appropriate dtype instead.\n",
      "  from pandas import (to_datetime, Int64Index, DatetimeIndex, Period,\n",
      "c:\\Users\\buckl\\anaconda3\\lib\\site-packages\\statsmodels\\tsa\\base\\tsa_model.py:7: FutureWarning: pandas.Float64Index is deprecated and will be removed from pandas in a future version. Use pandas.Index with the appropriate dtype instead.\n",
      "  from pandas import (to_datetime, Int64Index, DatetimeIndex, Period,\n"
     ]
    }
   ],
   "source": [
    "import pandas as pd \n",
    "import numpy as np\n",
    "from sklearn.linear_model import LinearRegression\n",
    "from scipy import stats\n",
    "import statsmodels.api as sm\n",
    "\n"
   ]
  },
  {
   "cell_type": "code",
   "execution_count": 2,
   "metadata": {},
   "outputs": [],
   "source": [
    "ffm = pd.read_csv('F-F_Research_Data_Factors.CSV')\n",
    "ffm['Date'] = pd.to_datetime(ffm['Date'],format='%Y%m')\n",
    "ffm.set_index('Date', inplace=True)"
   ]
  },
  {
   "cell_type": "code",
   "execution_count": 3,
   "metadata": {},
   "outputs": [
    {
     "data": {
      "text/html": [
       "<div>\n",
       "<style scoped>\n",
       "    .dataframe tbody tr th:only-of-type {\n",
       "        vertical-align: middle;\n",
       "    }\n",
       "\n",
       "    .dataframe tbody tr th {\n",
       "        vertical-align: top;\n",
       "    }\n",
       "\n",
       "    .dataframe thead th {\n",
       "        text-align: right;\n",
       "    }\n",
       "</style>\n",
       "<table border=\"1\" class=\"dataframe\">\n",
       "  <thead>\n",
       "    <tr style=\"text-align: right;\">\n",
       "      <th></th>\n",
       "      <th>Mkt-RF</th>\n",
       "      <th>SMB</th>\n",
       "      <th>HML</th>\n",
       "      <th>RF</th>\n",
       "    </tr>\n",
       "    <tr>\n",
       "      <th>Date</th>\n",
       "      <th></th>\n",
       "      <th></th>\n",
       "      <th></th>\n",
       "      <th></th>\n",
       "    </tr>\n",
       "  </thead>\n",
       "  <tbody>\n",
       "    <tr>\n",
       "      <th>1926-07-01</th>\n",
       "      <td>2.96</td>\n",
       "      <td>-2.56</td>\n",
       "      <td>-2.43</td>\n",
       "      <td>0.22</td>\n",
       "    </tr>\n",
       "    <tr>\n",
       "      <th>1926-08-01</th>\n",
       "      <td>2.64</td>\n",
       "      <td>-1.17</td>\n",
       "      <td>3.82</td>\n",
       "      <td>0.25</td>\n",
       "    </tr>\n",
       "    <tr>\n",
       "      <th>1926-09-01</th>\n",
       "      <td>0.36</td>\n",
       "      <td>-1.40</td>\n",
       "      <td>0.13</td>\n",
       "      <td>0.23</td>\n",
       "    </tr>\n",
       "    <tr>\n",
       "      <th>1926-10-01</th>\n",
       "      <td>-3.24</td>\n",
       "      <td>-0.09</td>\n",
       "      <td>0.70</td>\n",
       "      <td>0.32</td>\n",
       "    </tr>\n",
       "    <tr>\n",
       "      <th>1926-11-01</th>\n",
       "      <td>2.53</td>\n",
       "      <td>-0.10</td>\n",
       "      <td>-0.51</td>\n",
       "      <td>0.31</td>\n",
       "    </tr>\n",
       "    <tr>\n",
       "      <th>...</th>\n",
       "      <td>...</td>\n",
       "      <td>...</td>\n",
       "      <td>...</td>\n",
       "      <td>...</td>\n",
       "    </tr>\n",
       "    <tr>\n",
       "      <th>2023-09-01</th>\n",
       "      <td>-5.24</td>\n",
       "      <td>-2.51</td>\n",
       "      <td>1.52</td>\n",
       "      <td>0.43</td>\n",
       "    </tr>\n",
       "    <tr>\n",
       "      <th>2023-10-01</th>\n",
       "      <td>-3.19</td>\n",
       "      <td>-3.87</td>\n",
       "      <td>0.19</td>\n",
       "      <td>0.47</td>\n",
       "    </tr>\n",
       "    <tr>\n",
       "      <th>2023-11-01</th>\n",
       "      <td>8.84</td>\n",
       "      <td>-0.02</td>\n",
       "      <td>1.64</td>\n",
       "      <td>0.44</td>\n",
       "    </tr>\n",
       "    <tr>\n",
       "      <th>2023-12-01</th>\n",
       "      <td>4.85</td>\n",
       "      <td>6.34</td>\n",
       "      <td>4.93</td>\n",
       "      <td>0.43</td>\n",
       "    </tr>\n",
       "    <tr>\n",
       "      <th>2024-01-01</th>\n",
       "      <td>0.70</td>\n",
       "      <td>-5.07</td>\n",
       "      <td>-2.39</td>\n",
       "      <td>0.47</td>\n",
       "    </tr>\n",
       "  </tbody>\n",
       "</table>\n",
       "<p>1171 rows × 4 columns</p>\n",
       "</div>"
      ],
      "text/plain": [
       "            Mkt-RF   SMB   HML    RF\n",
       "Date                                \n",
       "1926-07-01    2.96 -2.56 -2.43  0.22\n",
       "1926-08-01    2.64 -1.17  3.82  0.25\n",
       "1926-09-01    0.36 -1.40  0.13  0.23\n",
       "1926-10-01   -3.24 -0.09  0.70  0.32\n",
       "1926-11-01    2.53 -0.10 -0.51  0.31\n",
       "...            ...   ...   ...   ...\n",
       "2023-09-01   -5.24 -2.51  1.52  0.43\n",
       "2023-10-01   -3.19 -3.87  0.19  0.47\n",
       "2023-11-01    8.84 -0.02  1.64  0.44\n",
       "2023-12-01    4.85  6.34  4.93  0.43\n",
       "2024-01-01    0.70 -5.07 -2.39  0.47\n",
       "\n",
       "[1171 rows x 4 columns]"
      ]
     },
     "execution_count": 3,
     "metadata": {},
     "output_type": "execute_result"
    }
   ],
   "source": [
    "ffm"
   ]
  },
  {
   "cell_type": "code",
   "execution_count": 4,
   "metadata": {},
   "outputs": [],
   "source": [
    "ticker = 'AAPL'"
   ]
  },
  {
   "cell_type": "code",
   "execution_count": 5,
   "metadata": {},
   "outputs": [],
   "source": [
    "ticker_data = pd.read_csv(f'..\\Life On The Edge Fund\\{ticker}.csv')\n",
    "ticker_data['Date'] = pd.to_datetime(ticker_data['Date'])\n",
    "ticker_data.set_index('Date', inplace=True)\n",
    "\n"
   ]
  },
  {
   "cell_type": "code",
   "execution_count": 6,
   "metadata": {},
   "outputs": [
    {
     "data": {
      "text/plain": [
       "Timestamp('2006-01-01 00:00:00')"
      ]
     },
     "execution_count": 6,
     "metadata": {},
     "output_type": "execute_result"
    }
   ],
   "source": [
    "start_date = max([ticker_data.index[0],pd.to_datetime('2006-01-01')])\n",
    "start_date"
   ]
  },
  {
   "cell_type": "code",
   "execution_count": 7,
   "metadata": {},
   "outputs": [],
   "source": [
    "ticker_price = ticker_data[ticker_data.index>=start_date]['Adj Close']\n",
    "ticker_return = 100 * np.log(ticker_price/ticker_price.shift(1))\n",
    "mkt_minus_rf= ffm[ffm.index>start_date]['Mkt-RF']\n",
    "ticker_return_minus_rf = ticker_return - ffm[ffm.index >= start_date]['RF']\n"
   ]
  },
  {
   "cell_type": "code",
   "execution_count": 8,
   "metadata": {},
   "outputs": [
    {
     "data": {
      "text/plain": [
       "6.082949308755754e-05"
      ]
     },
     "execution_count": 8,
     "metadata": {},
     "output_type": "execute_result"
    }
   ],
   "source": [
    "avg_mkt_minus_rf_return = mkt_minus_rf.mean()/100\n",
    "avg_smb_return = ffm[ffm.index>=start_date]['SMB'].mean()/100\n",
    "avg_hml_return = ffm[ffm.index>=start_date]['HML'].mean()/100\n",
    "avg_rf_return = ffm[ffm.index>=start_date]['RF'].mean()/100\n",
    "avg_smb_return"
   ]
  },
  {
   "cell_type": "code",
   "execution_count": 9,
   "metadata": {},
   "outputs": [],
   "source": [
    "mkt_minus_rf_sd = np.std(mkt_minus_rf)\n",
    "mkt_minus_rf_var = np.var(mkt_minus_rf)\n",
    "ticker_return_rf_mkt_rf_corr = np.corrcoef(ticker_return_minus_rf.dropna(),mkt_minus_rf.dropna())[0,1]\n",
    "ticker_return_rf_mkt_rf_cov = np.cov(ticker_return_minus_rf.dropna(),mkt_minus_rf.dropna())[0,1]\n"
   ]
  },
  {
   "cell_type": "markdown",
   "metadata": {},
   "source": [
    "CAPM Beta"
   ]
  },
  {
   "cell_type": "code",
   "execution_count": 10,
   "metadata": {},
   "outputs": [
    {
     "name": "stdout",
     "output_type": "stream",
     "text": [
      "Beta 1.183486180159068\n"
     ]
    }
   ],
   "source": [
    "y = np.array(ticker_return_minus_rf.dropna())\n",
    "X = np.array(mkt_minus_rf)\n",
    "X = sm.add_constant(X)\n",
    "model = sm.OLS(y,X)\n",
    "results = model.fit()\n",
    "intercept, beta = results.params \n",
    "\n",
    "print(f\"Beta {beta}\")\n",
    "\n"
   ]
  },
  {
   "cell_type": "markdown",
   "metadata": {},
   "source": [
    "FFM Betas"
   ]
  },
  {
   "cell_type": "code",
   "execution_count": 11,
   "metadata": {},
   "outputs": [
    {
     "name": "stdout",
     "output_type": "stream",
     "text": [
      "Beta1 (Market): 1.331426149163868, Beta2 (SMB): -0.34642219914966177, Beta3 (HML): -0.7150164931696684\n"
     ]
    }
   ],
   "source": [
    "\n",
    "\n",
    "X_1 = np.array(mkt_minus_rf)\n",
    "X_2 = np.array(ffm[ffm.index>start_date]['SMB'])\n",
    "X_3 = np.array(ffm[ffm.index>start_date]['HML'])\n",
    "X = np.column_stack((X_1, X_2, X_3))\n",
    "X = sm.add_constant(X)\n",
    "model = sm.OLS(y, X)\n",
    "results = model.fit()\n",
    "intercept, beta1, beta2, beta3 = results.params\n",
    "\n",
    "\n",
    "print(f\"Beta1 (Market): {beta1}, Beta2 (SMB): {beta2}, Beta3 (HML): {beta3}\")\n"
   ]
  },
  {
   "cell_type": "markdown",
   "metadata": {},
   "source": [
    "Expected Returns (CAPM)"
   ]
  },
  {
   "cell_type": "code",
   "execution_count": 12,
   "metadata": {},
   "outputs": [
    {
     "name": "stdout",
     "output_type": "stream",
     "text": [
      "Expected monthly return: 1.03%\n",
      "Expected yearly annualized return 13.1%\n"
     ]
    }
   ],
   "source": [
    "expected_monthly_return = avg_rf_return + (beta*avg_mkt_minus_rf_return)\n",
    "expected_monthly_return\n",
    "expected_yearly_return = np.power(1+expected_monthly_return,12) - 1\n",
    "print(f'Expected monthly return: {round(expected_monthly_return*100,2)}%')\n",
    "print(f'Expected yearly annualized return {round(expected_yearly_return*100,2)}%')\n"
   ]
  },
  {
   "cell_type": "markdown",
   "metadata": {},
   "source": [
    "Expected Returns (FFM)"
   ]
  },
  {
   "cell_type": "code",
   "execution_count": 13,
   "metadata": {},
   "outputs": [
    {
     "name": "stdout",
     "output_type": "stream",
     "text": [
      "Expected monthly return: 1.23%\n",
      "Expected yearly annualized return 15.86%\n"
     ]
    }
   ],
   "source": [
    "expected_monthly_return = avg_rf_return + beta1*avg_mkt_minus_rf_return + beta2*avg_smb_return + beta3*avg_hml_return\n",
    "expected_yearly_return = np.power(1 + expected_monthly_return,12) - 1\n",
    "print(f'Expected monthly return: {round(expected_monthly_return*100,2)}%')\n",
    "print(f'Expected yearly annualized return {round(expected_yearly_return*100,2)}%')"
   ]
  },
  {
   "cell_type": "markdown",
   "metadata": {},
   "source": [
    "Calculating Portfolio Betas and Expected Returns"
   ]
  },
  {
   "cell_type": "markdown",
   "metadata": {},
   "source": [
    "CAPM"
   ]
  },
  {
   "cell_type": "code",
   "execution_count": 14,
   "metadata": {},
   "outputs": [],
   "source": [
    "def get_ticker_beta(ticker):\n",
    "    ticker_data = pd.read_csv(f'..\\Out In The World Fund\\{ticker}.csv')\n",
    "    ticker_data['Date'] = pd.to_datetime(ticker_data['Date'])\n",
    "    ticker_data.set_index('Date', inplace=True)\n",
    "    start_date = max([ticker_data.index[0],pd.to_datetime('2006-01-01')])\n",
    "    ticker_price = ticker_data[ticker_data.index>=start_date]['Adj Close']\n",
    "    ticker_return = 100 * np.log(ticker_price/ticker_price.shift(1))\n",
    "    mkt_minus_rf= ffm[ffm.index>start_date]['Mkt-RF']\n",
    "    ticker_return_minus_rf = ticker_return - ffm[ffm.index >= start_date]['RF']\n",
    "    y = np.array(ticker_return_minus_rf.dropna())\n",
    "    X = np.array(mkt_minus_rf)\n",
    "    X = sm.add_constant(X)\n",
    "    model = sm.OLS(y,X)\n",
    "    results = model.fit()\n",
    "    intercept, beta = results.params\n",
    "    return beta\n",
    "\n",
    "\n"
   ]
  },
  {
   "cell_type": "code",
   "execution_count": 15,
   "metadata": {},
   "outputs": [],
   "source": [
    "def get_portfolio_beta(tickers,weights):\n",
    "    port_beta = 0\n",
    "    for ticker,weight in zip(tickers, weights):\n",
    "        ticker_beta = get_ticker_beta(ticker)\n",
    "        port_beta += ticker_beta*weight \n",
    "    return port_beta\n",
    "\n"
   ]
  },
  {
   "cell_type": "code",
   "execution_count": 16,
   "metadata": {},
   "outputs": [
    {
     "data": {
      "text/plain": [
       "1.017583474232874"
      ]
     },
     "execution_count": 16,
     "metadata": {},
     "output_type": "execute_result"
    }
   ],
   "source": [
    "tickers = pd.read_csv('../Out In The World Fund/weights.csv')['Ticker'].values\n",
    "weights = pd.read_csv('../Out In The World Fund/weights.csv')['Weights'].values\n",
    "\n",
    "get_portfolio_beta(tickers, weights)"
   ]
  },
  {
   "cell_type": "markdown",
   "metadata": {},
   "source": [
    "FFM Betas"
   ]
  },
  {
   "cell_type": "code",
   "execution_count": 17,
   "metadata": {},
   "outputs": [],
   "source": [
    "def get_ticker_betas(ticker):\n",
    "    ticker_data = pd.read_csv(f'..\\Out In The World Fund\\{ticker}.csv')\n",
    "    ticker_data['Date'] = pd.to_datetime(ticker_data['Date'])\n",
    "    ticker_data.set_index('Date', inplace=True)\n",
    "    start_date = max([ticker_data.index[0],pd.to_datetime('2006-01-01')])\n",
    "    ticker_price = ticker_data[ticker_data.index>=start_date]['Adj Close']\n",
    "    ticker_return = 100 * np.log(ticker_price/ticker_price.shift(1))\n",
    "    mkt_minus_rf= ffm[ffm.index>start_date]['Mkt-RF']\n",
    "    ticker_return_minus_rf = ticker_return - ffm[ffm.index >= start_date]['RF']\n",
    "    y = np.array(ticker_return_minus_rf.dropna())\n",
    "    X_1 = np.array(mkt_minus_rf)\n",
    "    X_2 = np.array(ffm[ffm.index>start_date]['SMB'])\n",
    "    X_3 = np.array(ffm[ffm.index>start_date]['HML'])\n",
    "    X = np.column_stack((X_1, X_2, X_3))\n",
    "    X = sm.add_constant(X)\n",
    "    model = sm.OLS(y, X)\n",
    "    results = model.fit()\n",
    "    intercept, beta_mkt, beta_smb, beta_hml = results.params\n",
    "    return (beta_mkt,beta_smb,beta_hml)\n",
    "\n",
    "\n",
    "\n",
    "    \n"
   ]
  },
  {
   "cell_type": "code",
   "execution_count": 18,
   "metadata": {},
   "outputs": [],
   "source": [
    "def get_portfolio_betas(tickers,weights):\n",
    "    beta_mkt = 0\n",
    "    beta_smb = 0\n",
    "    beta_hml = 0\n",
    "    for ticker,weight in zip(tickers,weights):\n",
    "        betas = get_ticker_betas(ticker)\n",
    "        beta_mkt+= betas[0] * weight \n",
    "        beta_smb += betas[1]*weight \n",
    "        beta_hml += betas[2]* weight \n",
    "    \n",
    "    return beta_mkt, beta_smb, beta_hml"
   ]
  },
  {
   "cell_type": "code",
   "execution_count": 19,
   "metadata": {},
   "outputs": [
    {
     "data": {
      "text/plain": [
       "(0.970770632282987, 0.18315719109654413, -0.1873038953502487)"
      ]
     },
     "execution_count": 19,
     "metadata": {},
     "output_type": "execute_result"
    }
   ],
   "source": [
    "tickers = pd.read_csv('../Out In The World Fund/weights.csv')['Ticker'].values\n",
    "weights = pd.read_csv('../Out In The World Fund/weights.csv')['Weights'].values\n",
    "\n",
    "get_portfolio_betas(tickers, weights)"
   ]
  }
 ],
 "metadata": {
  "kernelspec": {
   "display_name": "base",
   "language": "python",
   "name": "python3"
  },
  "language_info": {
   "codemirror_mode": {
    "name": "ipython",
    "version": 3
   },
   "file_extension": ".py",
   "mimetype": "text/x-python",
   "name": "python",
   "nbconvert_exporter": "python",
   "pygments_lexer": "ipython3",
   "version": "3.9.7"
  }
 },
 "nbformat": 4,
 "nbformat_minor": 2
}
